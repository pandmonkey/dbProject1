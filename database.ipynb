{
 "cells": [
  {
   "cell_type": "code",
   "execution_count": null,
   "metadata": {
    "vscode": {
     "languageId": "html"
    }
   },
   "outputs": [],
   "source": []
  },
  {
   "cell_type": "code",
   "execution_count": 1,
   "metadata": {},
   "outputs": [
    {
     "name": "stdout",
     "output_type": "stream",
     "text": [
      "数据库和表创建成功！\n"
     ]
    }
   ],
   "source": [
    "# database.ipynb\n",
    "import pymysql\n",
    "\n",
    "# 连接MySQL（确保MySQL服务已启动）\n",
    "connection = pymysql.connect(\n",
    "    host='localhost',\n",
    "    user='bcb',\n",
    "    password='1145141919810',\n",
    "    charset='utf8mb4'\n",
    ")\n",
    "\n",
    "# 创建数据库和表\n",
    "try:\n",
    "    with connection.cursor() as cursor:\n",
    "        # 创建数据库\n",
    "        cursor.execute(\"CREATE DATABASE IF NOT EXISTS flask_demo\")\n",
    "        cursor.execute(\"USE flask_demo\")\n",
    "        \n",
    "        # 创建表\n",
    "        cursor.execute(\"\"\"\n",
    "        CREATE TABLE IF NOT EXISTS users (\n",
    "            id INT AUTO_INCREMENT PRIMARY KEY,\n",
    "            name VARCHAR(50),\n",
    "            email VARCHAR(50)\n",
    "        )\"\"\")\n",
    "        \n",
    "        # 插入示例数据\n",
    "        cursor.execute(\"INSERT INTO users (name, email) VALUES ('Alice', 'alice@example.com')\")\n",
    "        cursor.execute(\"INSERT INTO users (name, email) VALUES ('Bob', 'bob@example.com')\")\n",
    "    \n",
    "    connection.commit()\n",
    "    print(\"数据库和表创建成功！\")\n",
    "finally:\n",
    "    connection.close()"
   ]
  }
 ],
 "metadata": {
  "kernelspec": {
   "display_name": "base",
   "language": "python",
   "name": "python3"
  },
  "language_info": {
   "codemirror_mode": {
    "name": "ipython",
    "version": 3
   },
   "file_extension": ".py",
   "mimetype": "text/x-python",
   "name": "python",
   "nbconvert_exporter": "python",
   "pygments_lexer": "ipython3",
   "version": "3.9.18"
  }
 },
 "nbformat": 4,
 "nbformat_minor": 2
}
